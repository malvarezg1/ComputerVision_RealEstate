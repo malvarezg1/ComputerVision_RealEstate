{
 "cells": [
  {
   "cell_type": "code",
   "execution_count": null,
   "id": "ee8e6aae",
   "metadata": {},
   "outputs": [],
   "source": [
    "from tensorflow import keras\n",
    "from tensorflow.keras.preprocessing.image import image_dataset_from_directory\n",
    "\n",
    "train_ds = image_dataset_from_directory(\n",
    "    directory='training_data/',\n",
    "    labels='inferred',\n",
    "    label_mode='categorical',\n",
    "    batch_size=32,\n",
    "    image_size=(256, 256))\n",
    "\n",
    "\n",
    "validation_ds = image_dataset_from_directory(\n",
    "    directory='validation_data/',\n",
    "    labels='inferred',\n",
    "    label_mode='categorical',\n",
    "    batch_size=32,\n",
    "    image_size=(256, 256))"
   ]
  }
 ],
 "metadata": {
  "kernelspec": {
   "display_name": "Python 3 (ipykernel)",
   "language": "python",
   "name": "python3"
  },
  "language_info": {
   "codemirror_mode": {
    "name": "ipython",
    "version": 3
   },
   "file_extension": ".py",
   "mimetype": "text/x-python",
   "name": "python",
   "nbconvert_exporter": "python",
   "pygments_lexer": "ipython3",
   "version": "3.8.11"
  }
 },
 "nbformat": 4,
 "nbformat_minor": 5
}
